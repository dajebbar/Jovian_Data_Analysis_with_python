{
  "nbformat": 4,
  "nbformat_minor": 0,
  "metadata": {
    "colab": {
      "name": "function_and_scope.ipynb",
      "provenance": []
    },
    "kernelspec": {
      "name": "python3",
      "display_name": "Python 3"
    }
  },
  "cells": [
    {
      "cell_type": "markdown",
      "metadata": {
        "id": "ftFdT2fFUY8C"
      },
      "source": [
        "> Radha is planning to buy a house that costs `$1,260,000`. She considering two options to finance her purchase:\n",
        ">\n",
        "> * Option 1: Make an immediate down payment of `$300,000`, and take loan 8-year loan with an interest rate of 10% (compounded monthly) for the remaining amount.\n",
        "> * Option 2: Take a 10-year loan with an interest rate of 8% (compounded monthly) for the entire amount.\n",
        ">\n",
        "> Both these loans have to be paid back in equal monthly installments (EMIs). Which loan has a lower EMI among the two?\n"
      ]
    },
    {
      "cell_type": "code",
      "metadata": {
        "id": "6B3qXyf-UXoO"
      },
      "source": [
        "def loans(loan_amount, n_of_months, rate_interest_per_months):\n",
        "  emi = (loan_amount * rate_interest_per_months * (1 + rate_interest_per_months)**n) / ((1 + rate_interest_per_months)**n - 1)\n",
        "  return emi\n"
      ],
      "execution_count": 9,
      "outputs": []
    },
    {
      "cell_type": "code",
      "metadata": {
        "colab": {
          "base_uri": "https://localhost:8080/"
        },
        "id": "qxYckbZNYApT",
        "outputId": "80ebc4ff-a773-40e9-9dac-24bcb4a31766"
      },
      "source": [
        "p = 1260000 - 300000\n",
        "n = 8 * 12\n",
        "r = 0.1 / 12\n",
        "loan1 = loans(p, n, r)\n",
        "\n",
        "print(round(loan1,0))"
      ],
      "execution_count": 26,
      "outputs": [
        {
          "output_type": "stream",
          "text": [
            "14567.0\n"
          ],
          "name": "stdout"
        }
      ]
    },
    {
      "cell_type": "code",
      "metadata": {
        "colab": {
          "base_uri": "https://localhost:8080/"
        },
        "id": "DowefxyyYl7c",
        "outputId": "205faf36-9436-4755-cf3c-4e752016f80e"
      },
      "source": [
        "p = 1260000 \n",
        "n = 10 * 12\n",
        "r = 0.08 / 12\n",
        "loan2 = loans(p, n, r)\n",
        "print(round(loan2,0))"
      ],
      "execution_count": 25,
      "outputs": [
        {
          "output_type": "stream",
          "text": [
            "15287.0\n"
          ],
          "name": "stdout"
        }
      ]
    },
    {
      "cell_type": "code",
      "metadata": {
        "colab": {
          "base_uri": "https://localhost:8080/"
        },
        "id": "sOTOfz1wZBSu",
        "outputId": "714e6c66-9505-4bee-a4fd-a45426cf7a38"
      },
      "source": [
        "res = loan1 - loan2\n",
        "res"
      ],
      "execution_count": 22,
      "outputs": [
        {
          "output_type": "execute_result",
          "data": {
            "text/plain": [
              "-720.0793548828879"
            ]
          },
          "metadata": {
            "tags": []
          },
          "execution_count": 22
        }
      ]
    }
  ]
}