{
 "cells": [
  {
   "cell_type": "code",
   "execution_count": 1,
   "metadata": {},
   "outputs": [],
   "source": [
    "!pip install jovian --upgrade --quiet"
   ]
  },
  {
   "cell_type": "code",
   "execution_count": 2,
   "metadata": {},
   "outputs": [],
   "source": [
    "# Vaccation Planning\n",
    "\n",
    "paris = dict(city='paris', return_flight=200, hotel_per_day=20, car_rent=200)\n",
    "london = dict(city='london', return_flight=250, hotel_per_day=30, car_rent=120)\n",
    "dubai = dict(city='dubai', return_flight=370, hotel_per_day=15, car_rent=80)\n",
    "mumbai = dict(city='mumbai', return_flight=450, hotel_per_day=10, car_rent=70)\n",
    "\n",
    "cities = [paris, london, dubai, mumbai]\n",
    "\n",
    "def cost_of_trip(city_lst, days):\n",
    "    \"\"\"[fuction that returns the cost of each city]\n",
    "\n",
    "    Args:\n",
    "        city_lst ([list]): [contain a cities informations]\n",
    "        days ([int]): [number of day in holidays]\n",
    "\n",
    "    Returns:\n",
    "        [cost]: [the cost of each city]\n",
    "    \"\"\"\n",
    "    \n",
    "    cost = [(city['city'],city['return_flight'] + days* city['hotel_per_day']+ city['car_rent'])for city in city_lst]\n",
    "    return cost\n",
    "\n",
    "\n",
    "def cheapest_city(n_days):\n",
    "    \"\"\"function that compare costs compared to days and print the cheapest city\n",
    "\n",
    "    Args:\n",
    "        n_days ([int]): [number of day stay]\n",
    "    \"\"\"\n",
    "\n",
    "    cost_days = cost_of_trip(cities, n_days)\n",
    "    res_cost = [cost for city,cost in cost_days] \n",
    "\n",
    "    for city, cost in cost_days:\n",
    "        if cost == min(res_cost):\n",
    "            return f\"{city} is the cheapest city for a {n_days} day stay\"\n",
    "            "
   ]
  },
  {
   "cell_type": "code",
   "execution_count": 3,
   "metadata": {},
   "outputs": [
    {
     "data": {
      "text/plain": [
       "'paris is the cheapest city for a 7 day stay'"
      ]
     },
     "execution_count": 3,
     "metadata": {},
     "output_type": "execute_result"
    }
   ],
   "source": [
    "# 1. If you're planning a 1-week long trip, which city should you visit \n",
    "# to spend the least amount of money?\n",
    "\n",
    "cheapest_city(7)"
   ]
  },
  {
   "cell_type": "code",
   "execution_count": 4,
   "metadata": {},
   "outputs": [
    {
     "name": "stdout",
     "output_type": "stream",
     "text": [
      "paris is the cheapest city for a 4 day stay\n",
      "paris is the cheapest city for a 10 day stay\n",
      "mumbai is the cheapest city for a 15 day stay\n"
     ]
    }
   ],
   "source": [
    "# How does the answer to the previous question change if you change the \n",
    "# trip's duration to four days, ten days or two weeks?\n",
    "print(cheapest_city(4))\n",
    "print(cheapest_city(10))\n",
    "print(cheapest_city(15))"
   ]
  },
  {
   "cell_type": "code",
   "execution_count": null,
   "metadata": {},
   "outputs": [
    {
     "data": {
      "application/javascript": [
       "window.require && require([\"base/js/namespace\"],function(Jupyter){Jupyter.notebook.save_checkpoint()})"
      ],
      "text/plain": [
       "<IPython.core.display.Javascript object>"
      ]
     },
     "metadata": {},
     "output_type": "display_data"
    },
    {
     "name": "stdout",
     "output_type": "stream",
     "text": [
      "[jovian] Attempting to save notebook..\u001b[0m\n"
     ]
    }
   ],
   "source": [
    "import jovian\n",
    "jovian.commit(project='exercise-data-analysis-for-vacation-planning')"
   ]
  },
  {
   "cell_type": "code",
   "execution_count": null,
   "metadata": {},
   "outputs": [],
   "source": []
  }
 ],
 "metadata": {
  "kernelspec": {
   "display_name": "Python 3",
   "language": "python",
   "name": "python3"
  },
  "language_info": {
   "codemirror_mode": {
    "name": "ipython",
    "version": 3
   },
   "file_extension": ".py",
   "mimetype": "text/x-python",
   "name": "python",
   "nbconvert_exporter": "python",
   "pygments_lexer": "ipython3",
   "version": "3.8.6"
  }
 },
 "nbformat": 4,
 "nbformat_minor": 2
}
