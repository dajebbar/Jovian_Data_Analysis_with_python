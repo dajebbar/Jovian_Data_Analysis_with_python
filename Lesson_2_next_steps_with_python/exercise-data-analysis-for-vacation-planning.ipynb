{
 "cells": [
  {
   "cell_type": "code",
   "execution_count": 1,
   "metadata": {},
   "outputs": [],
   "source": [
    "!pip install jovian --upgrade --quiet"
   ]
  },
  {
   "cell_type": "code",
   "execution_count": 2,
   "metadata": {},
   "outputs": [],
   "source": [
    "import math\n",
    "\n",
    "\n",
    "paris = dict(city='paris', return_flight=200, hotel_per_day=20, car_rent=200)\n",
    "london = dict(city='london', return_flight=250, hotel_per_day=30, car_rent=120)\n",
    "dubai = dict(city='dubai', return_flight=370, hotel_per_day=15, car_rent=80)\n",
    "mumbai = dict(city='mumbai', return_flight=450, hotel_per_day=10, car_rent=70)\n",
    "\n",
    "cities = [paris, london, dubai, mumbai]\n",
    "\n",
    "def cost_of_trip(city_lst, days):\n",
    "    \"\"\"[fuction that returns the cost of each city]\n",
    "\n",
    "    Args:\n",
    "        city_lst ([list]): [contain a cities informations]\n",
    "        days ([int]): [number of day in holidays]\n",
    "\n",
    "    Returns:\n",
    "        [cost]: [the cost of each city]\n",
    "    \"\"\"\n",
    "\n",
    "    cost = [(city['city'],(city['return_flight'] + (days* city['hotel_per_day'])+ \\\n",
    "        (math.ceil(days/7)*city['car_rent'])))for city in city_lst]\n",
    "    return cost\n",
    "\n",
    "\n",
    "def cheapest_city(n_days):\n",
    "    \"\"\"function that compare costs compared to days and print the cheapest city\n",
    "\n",
    "    Args:\n",
    "        n_days ([int]): [number of day stay]\n",
    "    \"\"\"\n",
    "\n",
    "    cost_days = cost_of_trip(cities, n_days)\n",
    "    res_cost = [cost for city,cost in cost_days] \n",
    "\n",
    "    for city, cost in cost_days:\n",
    "        if cost == min(res_cost):\n",
    "            return f\"{city} is the cheapest city for a {n_days} day stay\"\n",
    "\n"
   ]
  },
  {
   "cell_type": "code",
   "execution_count": 3,
   "metadata": {},
   "outputs": [
    {
     "data": {
      "text/plain": [
       "'paris is the cheapest city for a 7 day stay'"
      ]
     },
     "execution_count": 3,
     "metadata": {},
     "output_type": "execute_result"
    }
   ],
   "source": [
    "# 1. If you're planning a 1-week long trip, which city should you visit \n",
    "# to spend the least amount of money?\n",
    "\n",
    "cheapest_city(7)"
   ]
  },
  {
   "cell_type": "code",
   "execution_count": 4,
   "metadata": {},
   "outputs": [
    {
     "name": "stdout",
     "output_type": "stream",
     "text": [
      "paris is the cheapest city for a 4 day stay\n",
      "dubai is the cheapest city for a 10 day stay\n",
      "mumbai is the cheapest city for a 15 day stay\n"
     ]
    }
   ],
   "source": [
    "# How does the answer to the previous question change if you change the \n",
    "# trip's duration to four days, ten days or two weeks?\n",
    "print(cheapest_city(4))\n",
    "print(cheapest_city(10))\n",
    "print(cheapest_city(15))"
   ]
  },
  {
   "cell_type": "code",
   "execution_count": 5,
   "metadata": {},
   "outputs": [],
   "source": [
    "def duration(city_lst, budget):\n",
    "    \"\"\"[Function that compare budget for each city and return number of day stay]\n",
    "\n",
    "    Args:\n",
    "        city_lst ([list]): [contain a cities informations]\n",
    "        budget ([float]): [budget of holidays]\n",
    "\n",
    "    Returns:\n",
    "        [float]: [number of day stay]\n",
    "    \"\"\"\n",
    "    \n",
    "    cost = cost_of_trip(city_lst, 1)\n",
    "    budget_per_city = [(city,budget/c )for city, c in cost]\n",
    "    return budget_per_city"
   ]
  },
  {
   "cell_type": "code",
   "execution_count": 6,
   "metadata": {},
   "outputs": [
    {
     "name": "stdout",
     "output_type": "stream",
     "text": [
      "[('paris', 2.380952380952381), ('london', 2.5), ('dubai', 2.150537634408602), ('mumbai', 1.8867924528301887)]\n",
      "[('paris', 1.4285714285714286), ('london', 1.5), ('dubai', 1.2903225806451613), ('mumbai', 1.1320754716981132)]\n",
      "[('paris', 4.761904761904762), ('london', 5.0), ('dubai', 4.301075268817204), ('mumbai', 3.7735849056603774)]\n",
      "[('paris', 3.5714285714285716), ('london', 3.75), ('dubai', 3.225806451612903), ('mumbai', 2.830188679245283)]\n"
     ]
    }
   ],
   "source": [
    "print(duration(cities, 1000))\n",
    "\n",
    "print(duration(cities,600))\n",
    "print(duration(cities,2000))\n",
    "print(duration(cities,1500))"
   ]
  },
  {
   "cell_type": "code",
   "execution_count": 7,
   "metadata": {},
   "outputs": [],
   "source": [
    "def maximize_minimze_duration(city_lst,budget):\n",
    "    \"\"\"[Function that display cities depending on the budget]\n",
    "\n",
    "    Args:\n",
    "        city_lst ([list]): [cities]\n",
    "        budget ([float]): [budget]\n",
    "\n",
    "    Returns:\n",
    "        [string]: [maximize and minimize duration]\n",
    "    \"\"\"\n",
    "    city_max_visit = \"\"\n",
    "    city_min_visit = \"\"\n",
    "    total_budget = duration(city_lst, budget)\n",
    "    visit_per_city = [day_visit for city, day_visit in total_budget]\n",
    "\n",
    "    for city, day_visit in total_budget:\n",
    "\n",
    "        if day_visit == min(visit_per_city):\n",
    "            city_min_visit = city\n",
    "        \n",
    "        if day_visit == max(visit_per_city):\n",
    "            city_max_visit = city\n",
    "    \n",
    "    return f\"For ${budget} you should visit {city_max_visit} if you want maximize duration,else you should visit {city_min_visit} to minimize duration.\"\n"
   ]
  },
  {
   "cell_type": "code",
   "execution_count": 8,
   "metadata": {},
   "outputs": [
    {
     "name": "stdout",
     "output_type": "stream",
     "text": [
      "For $1000 you should visit london if you want maximize duration,else you should visit mumbai to minimize duration.\n",
      "For $600 you should visit london if you want maximize duration,else you should visit mumbai to minimize duration.\n",
      "For $2000 you should visit london if you want maximize duration,else you should visit mumbai to minimize duration.\n",
      "For $1500 you should visit london if you want maximize duration,else you should visit mumbai to minimize duration.\n"
     ]
    }
   ],
   "source": [
    "print(maximize_minimze_duration(cities, 1000))\n",
    "print(maximize_minimze_duration(cities, 600))\n",
    "print(maximize_minimze_duration(cities, 2000))\n",
    "print(maximize_minimze_duration(cities, 1500))"
   ]
  },
  {
   "cell_type": "code",
   "execution_count": 10,
   "metadata": {},
   "outputs": [
    {
     "data": {
      "application/javascript": [
       "window.require && require([\"base/js/namespace\"],function(Jupyter){Jupyter.notebook.save_checkpoint()})"
      ],
      "text/plain": [
       "<IPython.core.display.Javascript object>"
      ]
     },
     "metadata": {},
     "output_type": "display_data"
    },
    {
     "name": "stdout",
     "output_type": "stream",
     "text": [
      "[jovian] Attempting to save notebook..\u001b[0m\n",
      "[jovian] Updating notebook \"boubekri/exercise-data-analysis-for-vacation-planning\" on https://jovian.ai\u001b[0m\n",
      "[jovian] Uploading notebook..\u001b[0m\n",
      "[jovian] Uploading additional files...\u001b[0m\n",
      "[jovian] Committed successfully! https://jovian.ai/boubekri/exercise-data-analysis-for-vacation-planning\u001b[0m\n"
     ]
    },
    {
     "data": {
      "text/plain": [
       "'https://jovian.ai/boubekri/exercise-data-analysis-for-vacation-planning'"
      ]
     },
     "execution_count": 10,
     "metadata": {},
     "output_type": "execute_result"
    }
   ],
   "source": [
    "import jovian\n",
    "jovian.commit(project='exercise-data-analysis-for-vacation-planning')"
   ]
  },
  {
   "cell_type": "code",
   "execution_count": null,
   "metadata": {},
   "outputs": [],
   "source": []
  }
 ],
 "metadata": {
  "kernelspec": {
   "display_name": "Python 3",
   "language": "python",
   "name": "python3"
  },
  "language_info": {
   "codemirror_mode": {
    "name": "ipython",
    "version": 3
   },
   "file_extension": ".py",
   "mimetype": "text/x-python",
   "name": "python",
   "nbconvert_exporter": "python",
   "pygments_lexer": "ipython3",
   "version": "3.8.6"
  }
 },
 "nbformat": 4,
 "nbformat_minor": 2
}
