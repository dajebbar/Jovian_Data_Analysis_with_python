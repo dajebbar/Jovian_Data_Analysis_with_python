{
  "nbformat": 4,
  "nbformat_minor": 0,
  "metadata": {
    "colab": {
      "name": "variables_and_datatypes.ipynb",
      "provenance": [],
      "collapsed_sections": []
    },
    "kernelspec": {
      "display_name": "Python 3",
      "name": "python3"
    }
  },
  "cells": [
    {
      "cell_type": "code",
      "metadata": {
        "id": "w1_2zVhXj_f-"
      },
      "source": [
        "# Jovian Commit Essentials\n",
        "# Please retain and execute this cell without modifying the contents for `jovian.commit` to work\n",
        "!pip install jovian --upgrade -q\n",
        "import jovian\n",
        "jovian.set_project('variables-and-datatypes')\n",
        "jovian.set_colab_id('110znf1EZms1UpfuwIfqohbRMJd93B2F4')"
      ],
      "execution_count": 12,
      "outputs": []
    },
    {
      "cell_type": "markdown",
      "metadata": {
        "id": "OUi1II8Ccv2P"
      },
      "source": [
        "Following are some exercises you can try out with list methods (use the blank code cells below):\n",
        "\n",
        "* Reverse the order of elements in a list\n",
        "* Add the elements of one list at the end of another list\n",
        "* Sort a list of strings in alphabetical order\n",
        "* Sort a list of numbers in decreasing order"
      ]
    },
    {
      "cell_type": "code",
      "metadata": {
        "colab": {
          "base_uri": "https://localhost:8080/"
        },
        "id": "S1KWk5KhciU0",
        "outputId": "13211f86-995b-4663-80aa-68f160569a8b"
      },
      "source": [
        "# Reverse the order of elmts in a list\n",
        "\n",
        "fruits = ['apple', 'cherry', 'tomato', 'guava', 'dates']\n",
        "\n",
        "fruits_reversed = fruits[::-1]\n",
        "print(fruits_reversed)\n",
        "print('*' * 50)\n",
        "fruits_reversed1 = fruits.reverse()\n",
        "print(fruits_reversed)"
      ],
      "execution_count": null,
      "outputs": [
        {
          "output_type": "stream",
          "text": [
            "['dates', 'guava', 'tomato', 'cherry', 'apple']\n",
            "**************************************************\n",
            "['dates', 'guava', 'tomato', 'cherry', 'apple']\n"
          ],
          "name": "stdout"
        }
      ]
    },
    {
      "cell_type": "code",
      "metadata": {
        "colab": {
          "base_uri": "https://localhost:8080/"
        },
        "id": "kdMK03RMc62Q",
        "outputId": "46b417f3-f262-4fed-bdf7-4e0bf303f850"
      },
      "source": [
        "# Sort a list of strings in alphabetical order\n",
        "fruits_sorted = sorted(fruits)\n",
        "fruits_sorted"
      ],
      "execution_count": null,
      "outputs": [
        {
          "output_type": "execute_result",
          "data": {
            "text/plain": [
              "['apple', 'cherry', 'dates', 'guava', 'tomato']"
            ]
          },
          "metadata": {
            "tags": []
          },
          "execution_count": 2
        }
      ]
    },
    {
      "cell_type": "code",
      "metadata": {
        "colab": {
          "base_uri": "https://localhost:8080/"
        },
        "id": "2Qb7tJScdB0i",
        "outputId": "6bc1127e-069e-4ca8-b563-e87300cad96b"
      },
      "source": [
        "# Sort a list of numbers in decreasing order\n",
        "import random\n",
        "\n",
        "numbers = []\n",
        "\n",
        "for i in range(10):\n",
        "  numbers.append(random.randint(1,100))\n",
        "  \n",
        "print(sorted(numbers, reverse=True))"
      ],
      "execution_count": null,
      "outputs": [
        {
          "output_type": "stream",
          "text": [
            "[93, 88, 82, 81, 72, 38, 35, 15, 13, 6]\n"
          ],
          "name": "stdout"
        }
      ]
    },
    {
      "cell_type": "markdown",
      "metadata": {
        "id": "mheeA02VfqSo"
      },
      "source": [
        "# Dictionary"
      ]
    },
    {
      "cell_type": "code",
      "metadata": {
        "colab": {
          "base_uri": "https://localhost:8080/"
        },
        "id": "yERL6SnvdKbQ",
        "outputId": "addbf9ae-1f42-4763-b24a-2d7cb9834540"
      },
      "source": [
        "john_doe = dict(name='John Doe', sex='Male', age=32, married=True)\n",
        "john_doe"
      ],
      "execution_count": null,
      "outputs": [
        {
          "output_type": "execute_result",
          "data": {
            "text/plain": [
              "{'age': 32, 'married': True, 'name': 'John Doe', 'sex': 'Male'}"
            ]
          },
          "metadata": {
            "tags": []
          },
          "execution_count": 5
        }
      ]
    },
    {
      "cell_type": "markdown",
      "metadata": {
        "id": "eb9RdzdOgL5a"
      },
      "source": [
        "The results of keys, values, and items look like lists. However, they don't support the indexing operator [] for retrieving elements.\n",
        "\n",
        "Can you figure out how to access an element at a specific index from these results? Try it below. Hint: Use the list function"
      ]
    },
    {
      "cell_type": "code",
      "metadata": {
        "colab": {
          "base_uri": "https://localhost:8080/"
        },
        "id": "SIhPEtUif8U0",
        "outputId": "5d438d23-f5b7-4643-9a92-38e79b0006d3"
      },
      "source": [
        "john_doe_item = list(john_doe.items())\n",
        "john_doe_item"
      ],
      "execution_count": null,
      "outputs": [
        {
          "output_type": "execute_result",
          "data": {
            "text/plain": [
              "[('name', 'John Doe'), ('sex', 'Male'), ('age', 32), ('married', True)]"
            ]
          },
          "metadata": {
            "tags": []
          },
          "execution_count": 6
        }
      ]
    },
    {
      "cell_type": "code",
      "metadata": {
        "colab": {
          "base_uri": "https://localhost:8080/",
          "height": 35
        },
        "id": "nqZj-qVjgdMB",
        "outputId": "65fa340d-5eeb-4bb9-d2ac-69566e292064"
      },
      "source": [
        "john_doe_item[0][1]"
      ],
      "execution_count": null,
      "outputs": [
        {
          "output_type": "execute_result",
          "data": {
            "application/vnd.google.colaboratory.intrinsic+json": {
              "type": "string"
            },
            "text/plain": [
              "'John Doe'"
            ]
          },
          "metadata": {
            "tags": []
          },
          "execution_count": 7
        }
      ]
    },
    {
      "cell_type": "code",
      "metadata": {
        "colab": {
          "base_uri": "https://localhost:8080/"
        },
        "id": "scu-wq5ogmcf",
        "outputId": "eaa22be7-9428-4b12-9333-468c6d3a5fe4"
      },
      "source": [
        "john_doe_value = list(john_doe.keys())\n",
        "john_doe_value"
      ],
      "execution_count": null,
      "outputs": [
        {
          "output_type": "execute_result",
          "data": {
            "text/plain": [
              "['name', 'sex', 'age', 'married']"
            ]
          },
          "metadata": {
            "tags": []
          },
          "execution_count": 9
        }
      ]
    },
    {
      "cell_type": "code",
      "metadata": {
        "colab": {
          "base_uri": "https://localhost:8080/",
          "height": 35
        },
        "id": "GSRLxZApg2V2",
        "outputId": "3ebcda3c-c7d6-4383-f1dd-919e7376f197"
      },
      "source": [
        "john_doe_value[0]"
      ],
      "execution_count": null,
      "outputs": [
        {
          "output_type": "execute_result",
          "data": {
            "application/vnd.google.colaboratory.intrinsic+json": {
              "type": "string"
            },
            "text/plain": [
              "'name'"
            ]
          },
          "metadata": {
            "tags": []
          },
          "execution_count": 10
        }
      ]
    },
    {
      "cell_type": "code",
      "metadata": {
        "colab": {
          "base_uri": "https://localhost:8080/"
        },
        "id": "MgIODEgrhCeH",
        "outputId": "d17fc041-2a31-4e5a-91a3-a4af50f85f94"
      },
      "source": [
        "coord = [(k,v) for k,v in john_doe.items()]\n",
        "coord"
      ],
      "execution_count": null,
      "outputs": [
        {
          "output_type": "execute_result",
          "data": {
            "text/plain": [
              "[('name', 'John Doe'), ('sex', 'Male'), ('age', 32), ('married', True)]"
            ]
          },
          "metadata": {
            "tags": []
          },
          "execution_count": 14
        }
      ]
    },
    {
      "cell_type": "markdown",
      "metadata": {
        "id": "PVGIZULdkfri"
      },
      "source": [
        "Here are some experiments you can try out with dictionaries (use the empty cells below):\n",
        "* What happens if you use the same key multiple times while creating a dictionary?\n",
        "* How can you create a copy of a dictionary (modifying the copy should not change the original)?\n",
        "* Can the value associated with a key itself be a dictionary?\n",
        "* How can you add the key-value pairs from one dictionary into another dictionary? Hint: See the `update` method.\n",
        "* Can the dictionary's keys be something other than a string, e.g., a number, boolean, list, etc.?"
      ]
    },
    {
      "cell_type": "code",
      "metadata": {
        "id": "53_39jG3ib0X",
        "colab": {
          "base_uri": "https://localhost:8080/",
          "height": 129
        },
        "outputId": "f1dccf5f-f6db-4a12-95c4-626b636d0eba"
      },
      "source": [
        "# What happens if you use the same key multiple times while creating a dictionary?\n",
        "\n",
        "jane_jury = dict(name='jane ury', sex='Female', name='jane.J', age=23, married=False)\n",
        "jane_jury"
      ],
      "execution_count": 2,
      "outputs": [
        {
          "output_type": "error",
          "ename": "SyntaxError",
          "evalue": "ignored",
          "traceback": [
            "\u001b[0;36m  File \u001b[0;32m\"<ipython-input-2-c67512b6fa1b>\"\u001b[0;36m, line \u001b[0;32m3\u001b[0m\n\u001b[0;31m    jane_jury = dict(name='jane ury', sex='Female', name='jane.J', age=23, married=False)\u001b[0m\n\u001b[0m                                                   ^\u001b[0m\n\u001b[0;31mSyntaxError\u001b[0m\u001b[0;31m:\u001b[0m keyword argument repeated\n"
          ]
        }
      ]
    },
    {
      "cell_type": "code",
      "metadata": {
        "id": "e9utRCz5iwJe",
        "colab": {
          "base_uri": "https://localhost:8080/"
        },
        "outputId": "f4bcefdd-0540-4d39-aa9b-cea70854b313"
      },
      "source": [
        "# How can you create a copy of a dictionary (modifying the copy should not change the original)?\n",
        "\n",
        "jane_jury = dict(name='jane jury', sex='Female', age=23, married=False)\n",
        "\n",
        "jane_jury_copy = jane_jury.copy()\n",
        "print(jane_jury_copy)"
      ],
      "execution_count": 4,
      "outputs": [
        {
          "output_type": "stream",
          "text": [
            "{'name': 'jane jury', 'sex': 'Female', 'age': 23, 'married': False}\n"
          ],
          "name": "stdout"
        }
      ]
    },
    {
      "cell_type": "code",
      "metadata": {
        "colab": {
          "base_uri": "https://localhost:8080/"
        },
        "id": "1uNVrYG4lf8t",
        "outputId": "daa71c5e-fd27-40d1-bbb8-69e24028dda5"
      },
      "source": [
        "jane_jury_copy['married'] = True\n",
        "jane_jury_copy['adress'] = '129, CA'\n",
        "\n",
        "print(jane_jury)\n",
        "print('*' * 40)\n",
        "print(jane_jury_copy)"
      ],
      "execution_count": 5,
      "outputs": [
        {
          "output_type": "stream",
          "text": [
            "{'name': 'jane jury', 'sex': 'Female', 'age': 23, 'married': False}\n",
            "****************************************\n",
            "{'name': 'jane jury', 'sex': 'Female', 'age': 23, 'married': True, 'adress': '129, CA'}\n"
          ],
          "name": "stdout"
        }
      ]
    },
    {
      "cell_type": "code",
      "metadata": {
        "colab": {
          "base_uri": "https://localhost:8080/"
        },
        "id": "TRJFIfghl79m",
        "outputId": "12eefaf1-1dd5-4c30-9281-6867c44a0a50"
      },
      "source": [
        "# Can the value associated with a key itself be a dictionary?\n",
        "\n",
        "jane_jury['family'] = dict(father='Alan Jury', mother='Juliana Jury', brother='John Jury')\n",
        "jane_jury"
      ],
      "execution_count": 6,
      "outputs": [
        {
          "output_type": "execute_result",
          "data": {
            "text/plain": [
              "{'age': 23,\n",
              " 'family': {'brother': 'John Jury',\n",
              "  'father': 'Alan Jury',\n",
              "  'mother': 'Juliana Jury'},\n",
              " 'married': False,\n",
              " 'name': 'jane jury',\n",
              " 'sex': 'Female'}"
            ]
          },
          "metadata": {
            "tags": []
          },
          "execution_count": 6
        }
      ]
    },
    {
      "cell_type": "code",
      "metadata": {
        "colab": {
          "base_uri": "https://localhost:8080/"
        },
        "id": "7ubf1gNLmvUK",
        "outputId": "00a24317-7da4-474d-c69b-e69d68526578"
      },
      "source": [
        "# How can you add the key-value pairs from one dictionary into another dictionary? \n",
        "# Hint: See the update method.\n",
        "\n",
        "jane_jury.update(jane_jury_copy)\n",
        "jane_jury"
      ],
      "execution_count": 7,
      "outputs": [
        {
          "output_type": "execute_result",
          "data": {
            "text/plain": [
              "{'adress': '129, CA',\n",
              " 'age': 23,\n",
              " 'family': {'brother': 'John Jury',\n",
              "  'father': 'Alan Jury',\n",
              "  'mother': 'Juliana Jury'},\n",
              " 'married': True,\n",
              " 'name': 'jane jury',\n",
              " 'sex': 'Female'}"
            ]
          },
          "metadata": {
            "tags": []
          },
          "execution_count": 7
        }
      ]
    },
    {
      "cell_type": "code",
      "metadata": {
        "colab": {
          "base_uri": "https://localhost:8080/",
          "height": 35
        },
        "id": "Kcer5EBfnKTC",
        "outputId": "a5135893-72df-4fce-86ce-610a83cb0fd8"
      },
      "source": [
        "# Can the dictionary's keys be something other than a string, \n",
        "# e.g., a number, boolean, list, etc.?\n",
        "\n",
        "f\"yes, provided the keys are immutable.\""
      ],
      "execution_count": 8,
      "outputs": [
        {
          "output_type": "execute_result",
          "data": {
            "application/vnd.google.colaboratory.intrinsic+json": {
              "type": "string"
            },
            "text/plain": [
              "'yes, provided the keys are immutable.'"
            ]
          },
          "metadata": {
            "tags": []
          },
          "execution_count": 8
        }
      ]
    }
  ]
}